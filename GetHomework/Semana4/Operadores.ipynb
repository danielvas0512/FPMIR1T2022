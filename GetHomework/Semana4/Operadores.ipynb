{
 "cells": [
  {
   "cell_type": "markdown",
   "metadata": {},
   "source": [
    "# Operadores"
   ]
  },
  {
   "cell_type": "markdown",
   "metadata": {},
   "source": [
    "### Operadores relacionales"
   ]
  },
  {
   "cell_type": "code",
   "execution_count": 4,
   "metadata": {},
   "outputs": [
    {
     "name": "stdout",
     "output_type": "stream",
     "text": [
      "El resultado de 4 == 4 es: True\n",
      "El resultado de 4 != 4 es: False\n",
      "El resultado de 4 >  4 es: False\n",
      "El resutlado de 4 <  4 es: False\n",
      "El resultado de 4 >= 4 es: True\n",
      "El resultado de 4 <= 4 es: True\n"
     ]
    }
   ],
   "source": [
    "Num1=int(input(\"ingrese numero 1:\"))\n",
    "Num2=int(input(\"ingrese numero 2:\"))\n",
    "\n",
    "print(\"El resultado de\",Num1,\"==\",Num2,\"es:\",(Num1==Num2))\n",
    "print(\"El resultado de\",Num1,\"!=\",Num2,\"es:\",(Num1!=Num2))\n",
    "print(\"El resultado de\",Num1,\"> \",Num2,\"es:\",(Num1>Num2))\n",
    "print(\"El resutlado de\",Num1,\"< \",Num2,\"es:\",(Num1<Num2))\n",
    "print(\"El resultado de\",Num1,\">=\",Num2,\"es:\",(Num1>=Num2))\n",
    "print(\"El resultado de\",Num1,\"<=\",Num2,\"es:\",(Num1<=Num2))"
   ]
  },
  {
   "cell_type": "markdown",
   "metadata": {},
   "source": [
    "### Operadores logicos"
   ]
  },
  {
   "cell_type": "code",
   "execution_count": 8,
   "metadata": {},
   "outputs": [
    {
     "name": "stdout",
     "output_type": "stream",
     "text": [
      "Ambos numeros 1 y 3 son pares: False\n",
      "Al menos uno de los numeros 1  y/o  3 es par: False\n",
      "El NOT de Ambos numeros 1 y 3 son pares: True\n"
     ]
    }
   ],
   "source": [
    "Num1=int(input(\"ingrese numero 1:\"))\n",
    "Num2=int(input(\"ingrese numero 2:\"))\n",
    "\n",
    "print(\"Ambos numeros\",Num1,\"y\",Num2,\"son pares:\",((Num1%2==0)and(Num2%2==0)))\n",
    "print(\"Al menos uno de los numeros\",Num1,\" y/o \",Num2,\"es par:\",((Num1%2==0)or(Num2%2==0)))\n",
    "print(\"El NOT de Ambos numeros\",Num1,\"y\",Num2,\"son pares:\",not((Num1%2==0)and(Num2%2==0)))"
   ]
  },
  {
   "cell_type": "markdown",
   "metadata": {},
   "source": [
    "### Operadores de Identidad"
   ]
  },
  {
   "cell_type": "code",
   "execution_count": 15,
   "metadata": {},
   "outputs": [
    {
     "name": "stdout",
     "output_type": "stream",
     "text": [
      "La comparacion is: False\n",
      "La comparacion is not: True\n"
     ]
    }
   ],
   "source": [
    "Num1=int(input(\"ingrese numero 1:\"))\n",
    "Num2=int(input(\"ingrese numero 2:\"))\n",
    "\n",
    "\"\"\"\n",
    "lista1=list(range(1,Num1+1))\n",
    "lista2=list(range(1,Num2+1))\n",
    "\"\"\"\n",
    "String1=\"este es un primer texto\"\n",
    "String2=\"este es un primer texto\"\n",
    "\n",
    "print(\"La comparacion is:\",(String1 is String2))\n",
    "print(\"La comparacion is not:\",(String1 is not String2))"
   ]
  },
  {
   "cell_type": "markdown",
   "metadata": {},
   "source": [
    "### Operadores de membresia"
   ]
  },
  {
   "cell_type": "code",
   "execution_count": 17,
   "metadata": {},
   "outputs": [
    {
     "name": "stdout",
     "output_type": "stream",
     "text": [
      "El numero 12 pertenece a la lista1: False\n",
      "El numero 12 NO pertenece a la lista1: True\n"
     ]
    }
   ],
   "source": [
    "Num1=int(input(\"ingrese numero 1:\"))\n",
    "Num2=int(input(\"ingrese numero 2:\"))\n",
    "\n",
    "lista1=list(range(1,Num1+1))\n",
    "\n",
    "print(\"El numero\",Num2,\"pertenece a la lista1:\",(Num2 in lista1))\n",
    "print(\"El numero\",Num2,\"NO pertenece a la lista1:\",(Num2 not in lista1))\n"
   ]
  }
 ],
 "metadata": {
  "interpreter": {
   "hash": "7be441ddcb4fa222e95f7d0c5a8558ad20b545791982825ddfaeae7051408834"
  },
  "kernelspec": {
   "display_name": "Python 3.9.5 64-bit",
   "language": "python",
   "name": "python3"
  },
  "language_info": {
   "codemirror_mode": {
    "name": "ipython",
    "version": 3
   },
   "file_extension": ".py",
   "mimetype": "text/x-python",
   "name": "python",
   "nbconvert_exporter": "python",
   "pygments_lexer": "ipython3",
   "version": "3.9.5"
  },
  "orig_nbformat": 4
 },
 "nbformat": 4,
 "nbformat_minor": 2
}
